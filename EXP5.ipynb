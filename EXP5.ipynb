{
  "nbformat": 4,
  "nbformat_minor": 0,
  "metadata": {
    "colab": {
      "provenance": [],
      "authorship_tag": "ABX9TyOkj3JCNhwLirUFAI+Tah+v",
      "include_colab_link": true
    },
    "kernelspec": {
      "name": "python3",
      "display_name": "Python 3"
    },
    "language_info": {
      "name": "python"
    }
  },
  "cells": [
    {
      "cell_type": "markdown",
      "metadata": {
        "id": "view-in-github",
        "colab_type": "text"
      },
      "source": [
        "<a href=\"https://colab.research.google.com/github/rridss/application_of_ml_-in-industries/blob/main/EXP5.ipynb\" target=\"_parent\"><img src=\"https://colab.research.google.com/assets/colab-badge.svg\" alt=\"Open In Colab\"/></a>"
      ]
    },
    {
      "cell_type": "code",
      "execution_count": 1,
      "metadata": {
        "colab": {
          "base_uri": "https://localhost:8080/"
        },
        "id": "5FsM9AYh58yk",
        "outputId": "8551dc60-9f04-4e96-9328-f832ea48833d"
      },
      "outputs": [
        {
          "output_type": "stream",
          "name": "stdout",
          "text": [
            "\n",
            "Unpaired t-test results:\n",
            "T-statistic: -0.5022534348873592\n",
            "P-value: 0.6215779499516552\n",
            "Fail to reject the null hypothesis - There is no significant difference between the means.\n"
          ]
        }
      ],
      "source": [
        "from scipy import stats\n",
        "\n",
        "group1 = [15, 17, 20, 21, 22, 23, 25, 27, 30, 32]\n",
        "group2 = [18, 19, 21, 22, 24, 25, 26, 28, 29, 31]\n",
        "t_statistic, p_value = stats.ttest_ind(group1, group2)\n",
        "print(\"\\nUnpaired t-test results:\")\n",
        "print(\"T-statistic:\", t_statistic)\n",
        "print(\"P-value:\", p_value)\n",
        "alpha = 0.05\n",
        "if p_value < alpha:\n",
        "    print(\"Reject the null hypothesis - There is a significant difference between the means.\")\n",
        "else:\n",
        "    print(\"Fail to reject the null hypothesis - There is no significant difference between the means.\")\n",
        "\n"
      ]
    },
    {
      "cell_type": "code",
      "source": [
        "from scipy import stats\n",
        "\n",
        "group1 = [15, 17, 20, 21, 22, 23, 25, 27, 30, 32]\n",
        "group2 = [18, 19, 21, 22, 24, 25, 26, 28, 29, 31]\n",
        "t_statistic, p_value = stats.ttest_ind(group1, group2)\n",
        "print(\"\\nUnpaired t-test results:\")\n",
        "print(\"T-statistic:\", t_statistic)\n",
        "print(\"P-value:\", p_value)\n",
        "alpha = 0.05\n",
        "if p_value < alpha:\n",
        "    print(\"Reject the null hypothesis - There is a significant difference between the means.\")\n",
        "else:\n",
        "    print(\"Fail to reject the null hypothesis - There is no significant difference between the means.\")\n",
        "\n"
      ],
      "metadata": {
        "colab": {
          "base_uri": "https://localhost:8080/"
        },
        "id": "Gx2xiPWb6FP9",
        "outputId": "3b2ea159-f822-4e5c-a1e7-883615a769e3"
      },
      "execution_count": 2,
      "outputs": [
        {
          "output_type": "stream",
          "name": "stdout",
          "text": [
            "\n",
            "Unpaired t-test results:\n",
            "T-statistic: -0.5022534348873592\n",
            "P-value: 0.6215779499516552\n",
            "Fail to reject the null hypothesis - There is no significant difference between the means.\n"
          ]
        }
      ]
    },
    {
      "cell_type": "code",
      "source": [
        "import numpy as np\n",
        "from scipy.stats import norm\n",
        "\n",
        "before = np.array([20, 22, 24, 18, 23])\n",
        "after = np.array([25, 27, 30, 20, 26])\n",
        "differences = after - before\n",
        "mean_difference = np.mean(differences)\n",
        "stddev_difference = np.std(differences, ddof=1)\n",
        "sample_size = len(differences)\n",
        "z_score = mean_difference / (stddev_difference / np.sqrt(sample_size))\n",
        "p_value = 2 * (1 - norm.cdf(np.abs(z_score)))\n",
        "print(\"\\nPaired Z-test results:\")\n",
        "print(\"Z-score:\", z_score)\n",
        "print(\"P-value:\", p_value)\n",
        "alpha = 0.05\n",
        "if p_value < alpha:\n",
        "    print(\"Reject the null hypothesis - There is a significant difference between the means.\")\n",
        "else:\n",
        "    print(\"Fail to reject the null hypothesis - There is no significant difference between the means.\")\n"
      ],
      "metadata": {
        "colab": {
          "base_uri": "https://localhost:8080/"
        },
        "id": "I4OzwYFJ6FSO",
        "outputId": "2f18f1a9-ddfe-4ee7-df90-5e6ca74e49ea"
      },
      "execution_count": 3,
      "outputs": [
        {
          "output_type": "stream",
          "name": "stdout",
          "text": [
            "\n",
            "Paired Z-test results:\n",
            "Z-score: 5.715476066494082\n",
            "P-value: 1.093973178711849e-08\n",
            "Reject the null hypothesis - There is a significant difference between the means.\n"
          ]
        }
      ]
    },
    {
      "cell_type": "code",
      "source": [
        "import numpy as np\n",
        "from scipy.stats import norm\n",
        "group1 = np.array([15, 17, 20, 21, 22, 23, 25, 27, 30, 32])\n",
        "group2 = np.array([18, 19, 21, 22, 24, 25, 26, 28, 29, 31])\n",
        "sample1_mean = np.mean(group1)\n",
        "sample2_mean = np.mean(group2)\n",
        "sample1_stddev = np.std(group1, ddof=1)\n",
        "sample2_stddev = np.std(group2, ddof=1)\n",
        "sample1_size = len(group1)\n",
        "sample2_size = len(group2)\n",
        "pooled_stddev = np.sqrt((sample1_stddev**2 / sample1_size) + (sample2_stddev**2 / sample2_size))\n",
        "z_score = (sample1_mean - sample2_mean) / pooled_stddev\n",
        "p_value = 2 * (1 - norm.cdf(np.abs(z_score)))\n",
        "print(\"Unpaired (Independent) Z-test results:\")\n",
        "print(\"Z-score:\", z_score)\n"
      ],
      "metadata": {
        "colab": {
          "base_uri": "https://localhost:8080/"
        },
        "id": "5LY-65VS6FVL",
        "outputId": "cd501165-063b-4a10-b3f8-91ca350f698f"
      },
      "execution_count": 4,
      "outputs": [
        {
          "output_type": "stream",
          "name": "stdout",
          "text": [
            "Unpaired (Independent) Z-test results:\n",
            "Z-score: -0.5022534348873592\n"
          ]
        }
      ]
    },
    {
      "cell_type": "code",
      "source": [
        "print(\"P-value:\", p_value)\n",
        "alpha = 0.05\n",
        "if p_value < alpha:\n",
        "    print(\"Reject the null hypothesis - There is a significant difference between the means.\")\n",
        "else:\n",
        "    print(\"Fail to reject the null hypothesis - There is no significant difference between the means.\")\n",
        "\n"
      ],
      "metadata": {
        "colab": {
          "base_uri": "https://localhost:8080/"
        },
        "id": "LdTI80PZ6FYe",
        "outputId": "e0701a07-8426-4de6-b63d-93b1df914046"
      },
      "execution_count": 5,
      "outputs": [
        {
          "output_type": "stream",
          "name": "stdout",
          "text": [
            "P-value: 0.6154892597665431\n",
            "Fail to reject the null hypothesis - There is no significant difference between the means.\n"
          ]
        }
      ]
    }
  ]
}