{
  "nbformat": 4,
  "nbformat_minor": 0,
  "metadata": {
    "colab": {
      "provenance": [],
      "authorship_tag": "ABX9TyMZecYG4hS3JU/e4yNRPm0U",
      "include_colab_link": true
    },
    "kernelspec": {
      "name": "python3",
      "display_name": "Python 3"
    },
    "language_info": {
      "name": "python"
    }
  },
  "cells": [
    {
      "cell_type": "markdown",
      "metadata": {
        "id": "view-in-github",
        "colab_type": "text"
      },
      "source": [
        "<a href=\"https://colab.research.google.com/github/rridss/application_of_ml_-in-industries/blob/main/exp6.ipynb\" target=\"_parent\"><img src=\"https://colab.research.google.com/assets/colab-badge.svg\" alt=\"Open In Colab\"/></a>"
      ]
    },
    {
      "cell_type": "code",
      "execution_count": 1,
      "metadata": {
        "colab": {
          "base_uri": "https://localhost:8080/"
        },
        "id": "47XxGyZp9E6W",
        "outputId": "80286d51-168c-4ed2-84ee-76af1a487189"
      },
      "outputs": [
        {
          "output_type": "stream",
          "name": "stdout",
          "text": [
            "F statistic: 2.270114942528737\n",
            "P-value: 0.1458270963476901\n"
          ]
        }
      ],
      "source": [
        "from scipy.stats import f_oneway\n",
        "# Example data: heights of students in different classes\n",
        "class1_heights = [160, 165, 170, 175, 180]\n",
        "class2_heights = [155, 158, 162, 168, 172]\n",
        "class3_heights = [150, 155, 160, 165, 170]\n",
        "# Performing ANOVA test\n",
        "f_statistic, p_value = f_oneway(class1_heights, class2_heights, class3_heights)\n",
        "# Printing results\n",
        "print(\"F statistic:\", f_statistic)\n",
        "print(\"P-value:\", p_value)"
      ]
    },
    {
      "cell_type": "code",
      "source": [
        "# Interpretation\n",
        "alpha = 0.05\n",
        "if p_value < alpha:\n",
        "  print(\"Reject null hypothesis: There are statistically significant differences between the groups.\")\n",
        "else:\n",
        "  print(\"Fail to reject null hypothesis: There are no statistically significant differences between the groups.\")"
      ],
      "metadata": {
        "colab": {
          "base_uri": "https://localhost:8080/"
        },
        "id": "gZY27F_H9RHR",
        "outputId": "f0fd4377-303e-4d24-f982-547e7cbad572"
      },
      "execution_count": 3,
      "outputs": [
        {
          "output_type": "stream",
          "name": "stdout",
          "text": [
            "Fail to reject null hypothesis: There are no statistically significant differences between the groups.\n"
          ]
        }
      ]
    }
  ]
}